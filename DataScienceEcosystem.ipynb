{
 "cells": [
  {
   "cell_type": "markdown",
   "id": "6c889a8f-8aa8-436c-8ee1-f611d5b4c910",
   "metadata": {},
   "source": [
    "# Data Science Tools and Ecosystem"
   ]
  },
  {
   "cell_type": "markdown",
   "id": "c0d75932-73da-4999-a10a-c468fcd737e4",
   "metadata": {},
   "source": [
    "In this notebook, Data Science Tools and Ecosystems are summarized. "
   ]
  },
  {
   "cell_type": "markdown",
   "id": "12198686-bc42-4a45-bc19-88df9cdc8f6f",
   "metadata": {},
   "source": [
    "**Objectives:**\n",
    "-Popular languages of data science\n",
    "-Popular libraries of data science\n",
    "-Data science tools"
   ]
  },
  {
   "cell_type": "markdown",
   "id": "a3953556-bbab-4a6f-9d6e-07b73ce86038",
   "metadata": {},
   "source": [
    "## Author\n",
    "\n",
    "Doug Merriott"
   ]
  },
  {
   "cell_type": "markdown",
   "id": "7b1fbfe3-da5e-48df-a11a-65f3be8f137e",
   "metadata": {},
   "source": [
    "Some of the popular languages Data Scientists use are:\n",
    "1. Python\n",
    "2. R\n",
    "3. SQL"
   ]
  },
  {
   "cell_type": "markdown",
   "id": "e4ec711e-58df-48b6-b9ab-71d60de0a13c",
   "metadata": {},
   "source": [
    "Some of the popular libraries used by Data Scientists are: \n",
    "1. Pandas\n",
    "2. NumPyKit\n",
    "3. TensorFlow"
   ]
  },
  {
   "cell_type": "markdown",
   "id": "2884ad85-20af-4779-843d-3df36e76bd73",
   "metadata": {},
   "source": [
    "| Data Science Tools |\n",
    "| --- |\n",
    "| Hadoop |\n",
    "| Apache Spark |\n",
    "| Tableau |"
   ]
  },
  {
   "cell_type": "markdown",
   "id": "1841611b-2ce0-413b-b8b0-fc01309e87fb",
   "metadata": {},
   "source": [
    "### Below are a few examples of evaluating arithmetic expressions in Python"
   ]
  },
  {
   "cell_type": "code",
   "execution_count": 1,
   "id": "0ac13671-b164-422f-9918-261359b18375",
   "metadata": {
    "tags": []
   },
   "outputs": [
    {
     "data": {
      "text/plain": [
       "17"
      ]
     },
     "execution_count": 1,
     "metadata": {},
     "output_type": "execute_result"
    }
   ],
   "source": [
    "(3*4)+5\n",
    "#This a simple arithmetic expression to mutiply then add integers"
   ]
  },
  {
   "cell_type": "code",
   "execution_count": 6,
   "id": "e80ec60a-0850-4080-b21e-28ac82cf2fa5",
   "metadata": {
    "tags": []
   },
   "outputs": [
    {
     "data": {
      "text/plain": [
       "3.3333333333333335"
      ]
     },
     "execution_count": 6,
     "metadata": {},
     "output_type": "execute_result"
    }
   ],
   "source": [
    "200/60\n",
    "#This will convert minutes to hours by dividing by 60"
   ]
  },
  {
   "cell_type": "code",
   "execution_count": null,
   "id": "61720d41-ce9a-4454-baa8-9eb9bf812169",
   "metadata": {},
   "outputs": [],
   "source": []
  }
 ],
 "metadata": {
  "kernelspec": {
   "display_name": "Python",
   "language": "python",
   "name": "conda-env-python-py"
  },
  "language_info": {
   "codemirror_mode": {
    "name": "ipython",
    "version": 3
   },
   "file_extension": ".py",
   "mimetype": "text/x-python",
   "name": "python",
   "nbconvert_exporter": "python",
   "pygments_lexer": "ipython3",
   "version": "3.7.12"
  }
 },
 "nbformat": 4,
 "nbformat_minor": 5
}
